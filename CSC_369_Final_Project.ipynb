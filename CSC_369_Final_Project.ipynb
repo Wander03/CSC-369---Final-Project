{
  "nbformat": 4,
  "nbformat_minor": 0,
  "metadata": {
    "colab": {
      "provenance": [],
      "collapsed_sections": [
        "VYA5uuOV1XRI",
        "qBURFRhK1jb3"
      ]
    },
    "kernelspec": {
      "name": "python3",
      "display_name": "Python 3"
    },
    "language_info": {
      "name": "python"
    }
  },
  "cells": [
    {
      "cell_type": "markdown",
      "source": [
        "# Set Up"
      ],
      "metadata": {
        "id": "VYA5uuOV1XRI"
      }
    },
    {
      "cell_type": "code",
      "execution_count": null,
      "metadata": {
        "id": "NyJjmCA1ZimR",
        "colab": {
          "base_uri": "https://localhost:8080/"
        },
        "outputId": "8be16b99-94bd-4b70-ae05-6f87f18a3739"
      },
      "outputs": [
        {
          "output_type": "stream",
          "name": "stdout",
          "text": [
            "Looking in indexes: https://pypi.org/simple, https://us-python.pkg.dev/colab-wheels/public/simple/\n",
            "Requirement already satisfied: pyspark in /usr/local/lib/python3.9/dist-packages (3.3.2)\n",
            "Requirement already satisfied: py4j==0.10.9.5 in /usr/local/lib/python3.9/dist-packages (from pyspark) (0.10.9.5)\n",
            "openjdk-8-jdk-headless is already the newest version (8u362-ga-0ubuntu1~20.04.1).\n",
            "0 upgraded, 0 newly installed, 0 to remove and 22 not upgraded.\n"
          ]
        }
      ],
      "source": [
        "!pip install pyspark\n",
        "!pip install -U -q PyDrive\n",
        "!apt install openjdk-8-jdk-headless -qq\n",
        "import os\n",
        "os.environ[\"JAVA_HOME\"] = \"/usr/lib/jvm/java-8-openjdk-amd64\""
      ]
    },
    {
      "cell_type": "code",
      "source": [
        "from pyspark import SparkContext, SparkConf\n",
        "from pyspark.sql import SparkSession, SQLContext\n",
        "from pyspark.sql import types as sparktypes\n",
        "from pyspark.sql.functions import col\n",
        "import pyspark.sql.functions as F\n",
        "import matplotlib.pyplot as plt\n",
        "from matplotlib import gridspec\n",
        "\n",
        "sc = SparkContext()\n",
        "spark = SparkSession(sc)"
      ],
      "metadata": {
        "id": "Igm-imjKPo0r"
      },
      "execution_count": null,
      "outputs": []
    },
    {
      "cell_type": "code",
      "source": [
        "from google.colab import drive\n",
        "drive.mount(\"/content/drive\")"
      ],
      "metadata": {
        "colab": {
          "base_uri": "https://localhost:8080/"
        },
        "id": "z_6vFYdbQmaH",
        "outputId": "4ecfca5f-7653-4025-a137-17b7d8625474"
      },
      "execution_count": null,
      "outputs": [
        {
          "output_type": "stream",
          "name": "stdout",
          "text": [
            "Drive already mounted at /content/drive; to attempt to forcibly remount, call drive.mount(\"/content/drive\", force_remount=True).\n"
          ]
        }
      ]
    },
    {
      "cell_type": "code",
      "source": [
        "reg_df = spark.read.option(\"header\", \"true\").csv(\"/content/drive/MyDrive/College/CSC_369/data/Electric_Vehicle_Population_Data.csv\")\n",
        "reg_activity_df = spark.read.option(\"header\", \"true\").csv(\"/content/drive/MyDrive/College/CSC_369/data/Electric_Vehicle_Title_and_Registration_Activity.csv\")"
      ],
      "metadata": {
        "id": "JYlDmrTrTCqi"
      },
      "execution_count": null,
      "outputs": []
    },
    {
      "cell_type": "markdown",
      "source": [
        "# Introduction"
      ],
      "metadata": {
        "id": "-u-glkUn1gVP"
      }
    },
    {
      "cell_type": "markdown",
      "source": [
        "I am not that interested in different types of cars, however recently I have noticed an increase in advertisements for electric vehicles. The first company that comes to mind when I think \"electric vehicle\" is Tesla - but should it be? After looking into the registered electric vehicles in Washington, I would say yes. There is a clear increase in number of registered electric vehicles over time and, post 2017, Tesla has been the dominate make of electric vehicle."
      ],
      "metadata": {
        "id": "KZIUIhnJ3MME"
      }
    },
    {
      "cell_type": "markdown",
      "source": [
        "# Datasets"
      ],
      "metadata": {
        "id": "qBURFRhK1jb3"
      }
    },
    {
      "cell_type": "markdown",
      "source": [
        "###**Electric Vehicle Population Data**\n",
        "\n",
        "\n",
        "> This dataset contains Battery Electric Vehicles (BEVs) and Plug-in Hybrid Electric Vehicles (PHEVs) currently registered through the Washington State Department of Licensing as of February 17, 2023.\n",
        ">\n",
        "> The primary columns we will look at are:\n",
        ">\n",
        ">*   DOL Vehicle ID: primary key\n",
        ">*   County\n",
        ">*   City\n",
        ">*   Postal Code: zip code\n",
        ">*   Electric Vehicle Type: full electric or hybrid\n",
        ">\n",
        "> Source: https://catalog.data.gov/dataset/electric-vehicle-population-data\n",
        "\n"
      ],
      "metadata": {
        "id": "tcsAa1VPmKTR"
      }
    },
    {
      "cell_type": "code",
      "source": [
        "reg_df.select('DOL Vehicle ID', 'County', 'City', 'Postal Code', 'Electric Vehicle Type').show(5, truncate=False)\n",
        "reg_df.printSchema()"
      ],
      "metadata": {
        "colab": {
          "base_uri": "https://localhost:8080/"
        },
        "id": "IYSRAZi3p-3Q",
        "outputId": "c1134d67-c222-4d44-f7ff-e2bbb90c1eec"
      },
      "execution_count": null,
      "outputs": [
        {
          "output_type": "stream",
          "name": "stdout",
          "text": [
            "+--------------+---------+----------+-----------+--------------------------------------+\n",
            "|DOL Vehicle ID|County   |City      |Postal Code|Electric Vehicle Type                 |\n",
            "+--------------+---------+----------+-----------+--------------------------------------+\n",
            "|153998050     |San Diego|Oceanside |92051      |Battery Electric Vehicle (BEV)        |\n",
            "|138214331     |Sedgwick |Derby     |67037      |Plug-in Hybrid Electric Vehicle (PHEV)|\n",
            "|3129059       |Snohomish|Marysville|98271      |Battery Electric Vehicle (BEV)        |\n",
            "|166525635     |Kitsap   |Bremerton |98337      |Plug-in Hybrid Electric Vehicle (PHEV)|\n",
            "|475248315     |Snohomish|Edmonds   |98026      |Battery Electric Vehicle (BEV)        |\n",
            "+--------------+---------+----------+-----------+--------------------------------------+\n",
            "only showing top 5 rows\n",
            "\n",
            "root\n",
            " |-- VIN (1-10): string (nullable = true)\n",
            " |-- County: string (nullable = true)\n",
            " |-- City: string (nullable = true)\n",
            " |-- State: string (nullable = true)\n",
            " |-- Postal Code: string (nullable = true)\n",
            " |-- Model Year: string (nullable = true)\n",
            " |-- Make: string (nullable = true)\n",
            " |-- Model: string (nullable = true)\n",
            " |-- Electric Vehicle Type: string (nullable = true)\n",
            " |-- Clean Alternative Fuel Vehicle (CAFV) Eligibility: string (nullable = true)\n",
            " |-- Electric Range: string (nullable = true)\n",
            " |-- Base MSRP: string (nullable = true)\n",
            " |-- Legislative District: string (nullable = true)\n",
            " |-- DOL Vehicle ID: string (nullable = true)\n",
            " |-- Vehicle Location: string (nullable = true)\n",
            " |-- Electric Utility: string (nullable = true)\n",
            " |-- 2020 Census Tract: string (nullable = true)\n",
            "\n"
          ]
        }
      ]
    },
    {
      "cell_type": "markdown",
      "source": [
        "###**Electric Vehicle Title and Registration Activity**\n",
        "\n",
        "\n",
        "> This dataset contains records of title activity (change of ownership) and registration activity (authorizing vehicles to be used in Washington) from\n",
        "January 2010 through February 2023.\n",
        ">\n",
        "> The primary columns we will look at are:\n",
        ">\n",
        ">*   DOL Vehicle ID: primary key\n",
        ">*   County\n",
        ">*   City\n",
        ">*   Postal Code: zip code\n",
        ">*   Clean Alternative Fuel Vehicle Type: full electric or hybrid (same as Electric Vehicle Type from previous dataset)\n",
        ">*   Make: manufacturer\n",
        ">*   Model\n",
        ">*   Transaction Type: registration renewal, origional registration, origional title, transfer title, registration at time of transfer\n",
        ">*   Transaction Year: year record was entered into dataset\n",
        ">\n",
        "> Source: https://catalog.data.gov/dataset/electric-vehicle-title-and-registration-activity\n"
      ],
      "metadata": {
        "id": "GcesPpTRnHMv"
      }
    },
    {
      "cell_type": "code",
      "source": [
        "reg_activity_df.select('DOL Vehicle ID', 'County', 'City', 'Postal Code', 'Clean Alternative Fuel Vehicle Type', 'Make', 'Model', 'Transaction Type', 'Transaction Year').show(5, truncate=False)\n",
        "reg_activity_df.printSchema()"
      ],
      "metadata": {
        "colab": {
          "base_uri": "https://localhost:8080/"
        },
        "id": "1GdSLLK1Qvve",
        "outputId": "fc039aef-107a-4f0e-ddb5-ac6bb61be03e"
      },
      "execution_count": null,
      "outputs": [
        {
          "output_type": "stream",
          "name": "stdout",
          "text": [
            "+--------------+--------+--------+-----------+--------------------------------------+-------------+----------+---------------------+----------------+\n",
            "|DOL Vehicle ID|County  |City    |Postal Code|Clean Alternative Fuel Vehicle Type   |Make         |Model     |Transaction Type     |Transaction Year|\n",
            "+--------------+--------+--------+-----------+--------------------------------------+-------------+----------+---------------------+----------------+\n",
            "|161666928     |King    |KIRKLAND|98034      |Plug-in Hybrid Electric Vehicle (PHEV)|TOYOTA       |RAV4 Prime|Registration Renewal |2022            |\n",
            "|100195742     |Thurston|OLYMPIA |98512      |Battery Electric Vehicle (BEV)        |MERCEDES-BENZ|B-Class   |Transfer Title       |2018            |\n",
            "|100195742     |Thurston|OLYMPIA |98512      |Battery Electric Vehicle (BEV)        |MERCEDES-BENZ|B-Class   |Original Registration|2015            |\n",
            "|100195742     |Thurston|OLYMPIA |98512      |Battery Electric Vehicle (BEV)        |MERCEDES-BENZ|B-Class   |Original Title       |2015            |\n",
            "|100195742     |Thurston|OLYMPIA |98512      |Battery Electric Vehicle (BEV)        |MERCEDES-BENZ|B-Class   |Registration Renewal |2016            |\n",
            "+--------------+--------+--------+-----------+--------------------------------------+-------------+----------+---------------------+----------------+\n",
            "only showing top 5 rows\n",
            "\n",
            "root\n",
            " |-- Clean Alternative Fuel Vehicle Type: string (nullable = true)\n",
            " |-- VIN (1-10): string (nullable = true)\n",
            " |-- DOL Vehicle ID: string (nullable = true)\n",
            " |-- Model Year: string (nullable = true)\n",
            " |-- Make: string (nullable = true)\n",
            " |-- Model: string (nullable = true)\n",
            " |-- Vehicle Primary Use: string (nullable = true)\n",
            " |-- Electric Range: string (nullable = true)\n",
            " |-- Odometer Reading: string (nullable = true)\n",
            " |-- Odometer Code: string (nullable = true)\n",
            " |-- New or Used Vehicle: string (nullable = true)\n",
            " |-- Sale Price: string (nullable = true)\n",
            " |-- Sale Date: string (nullable = true)\n",
            " |-- Base MSRP: string (nullable = true)\n",
            " |-- Transaction Type: string (nullable = true)\n",
            " |-- DOL Transaction Date: string (nullable = true)\n",
            " |-- Transaction Year: string (nullable = true)\n",
            " |-- County: string (nullable = true)\n",
            " |-- City: string (nullable = true)\n",
            " |-- State of Residence: string (nullable = true)\n",
            " |-- Postal Code: string (nullable = true)\n",
            " |-- 2015 HB 2778 Exemption Eligibility: string (nullable = true)\n",
            " |-- 2019 HB 2042 Clean Alternative Fuel Vehicle (CAFV) Eligibility: string (nullable = true)\n",
            " |-- Meets 2019 HB 2042 Electric Range Requirement: string (nullable = true)\n",
            " |-- Meets 2019 HB 2042 Sale Date Requirement: string (nullable = true)\n",
            " |-- Meets 2019 HB 2042 Sale Price/Value Requirement: string (nullable = true)\n",
            " |-- Electric Vehicle Fee Paid: string (nullable = true)\n",
            " |-- Transportation Electrification Fee Paid: string (nullable = true)\n",
            " |-- Hybrid Vehicle Electrification Fee Paid: string (nullable = true)\n",
            " |-- 2020 Census Tract: string (nullable = true)\n",
            " |-- Legislative District: string (nullable = true)\n",
            " |-- Electric Utility: string (nullable = true)\n",
            "\n"
          ]
        }
      ]
    },
    {
      "cell_type": "markdown",
      "source": [
        "# Questions\n",
        "\n",
        "*   Has there been an increase in electric vehicle ownership within the past few years?\n",
        "*   What make of vehicle was the most popular each year? Within each make, was there a stand out model?\n",
        "*   Are there more Full Electric or Hybrid vehicles currently registered? Do different cities favor one type over the other? Do counties? Do Postal Codes?\n",
        "\n",
        "\n",
        "\n"
      ],
      "metadata": {
        "id": "uVFfrQC11lli"
      }
    },
    {
      "cell_type": "markdown",
      "source": [
        "## Problem Decomposition\n",
        "1. Has there been an increase in electric vehicle ownership within the past few years?\n",
        "> We will use the vehicle registration dataset and start by filtering the results to only include vehicle registrations (and not title transfers). Then, after grouping by transaction year, we will count the number of records for each year.\n",
        ">\n",
        "> To further analyze the results, we can look at the change in amount of registered electric vehicles from year-to-year. To accomplish this, we can join our dataframe onto itself, where the transaction year of one equals the transaction year - 1 of the other. Then we can calculate the difference in counts from one year to the previous.\n",
        ">\n",
        "> In both steps, we filtered out the year recorder pertaining to 2023 since we only have data on 2 months compared to the full year of all other years.\n",
        "\n",
        "2. What make of vehicle was the most popular each year? Within each make, was there a stand out model?\n",
        "> Using the vehicle registration dataset, we once again begin by filtering the results to only include vehicle registrations. Next we group by year then make, and count the records of each make for each year. Finally, we find the max count(s) from each year. Using these results, we can perform the same steps as before, but rather than finding the max instead join the max values we found earlier and filtering our newly joined table to only include the counts which are equal to the max for each year respectivly. This will let us find the majority make of electric vehicle owned in Washington each year.\n",
        ">\n",
        "> To find the majority model of each make for each year, we will perform the same steps as before, with the addition of adding model to the group by statements and joining the results from before, prior to any group by's, so we are only looking at the model(s) of the majority make(s) for each year.\n",
        ">\n",
        "> To easily compare the counts, we joined the results of the two tables above, as well as the results from question 1, and calculated the percentage of vehicles by make and by model for each year.  \n",
        "\n",
        "3. Are there more Full Electric or Hybrid vehicles currently registered? Do different cities favor one type over the other? Do counties? Do Postal Codes?\n",
        "> First, we need to join the vehicle registration dataset to the vehicle population dataset. Since the same vehicle can appear on the registration dataset multiple times, we will order by descending transaction year, drop duplicate Vehicle Id's (which keeps the first record aka the most recent). To answer the first part of the question we can group by vehicle type and count the records for each group.\n",
        ">\n",
        "> The remaining questions are a bit trickier. Since it is not guaranteed that each group has at least one vehicle of every type, we need to be able to account for 0 vehicles of said type.\n",
        ">\n",
        "> To do this we created a dataframe of all possible cities and a dataframe of all possible types using a select statements and distinct statement for each. Then, we cross joined the two dataframes to get every combination of city and type.\n",
        ">\n",
        "> Now we create a dataframe counting the number of records of each type for each city (group by city then count), and join this dataframe to the cross joined dataframe using a left joined. The left join is important here so any instances of 0 type for a city have a count of NA. Next we filter out the city 'null' and replace all NA's in the count column with 0.\n",
        ">\n",
        "> To find the percent of full electric vehicles in each city, we join our current dataframe with itself; this creates a record for every permutation of type for each city (full, full | full, hybrid | hybrid, full | hybrid, hybrid). After filtering out all the records where both types are the same, then ordering by the type of one column and dropping duplicates, we end up with one record per city containing the counts for full electric and hybrid. Finally, we can compute the percentage of full electric vehicles in each city (out of all electric vehicles), then use a filter to only keep those with over 50% full electric vehicles. To get the percentage of cities that have over 50% full electric vehicles, we can take our dataframe containing all the cities from earlier, get the count, then divide the count of our dataframe by this count.\n",
        ">\n",
        "> To get the counties and postal code percentages, we can perform the same steps above, except replace city with county/postal code!"
      ],
      "metadata": {
        "id": "pCDgQfYO27br"
      }
    },
    {
      "cell_type": "markdown",
      "source": [
        "# Results"
      ],
      "metadata": {
        "id": "apLKIGg11oR9"
      }
    },
    {
      "cell_type": "markdown",
      "source": [
        "## 1. Has there been an increase in electric vehicle ownership within the past few years?"
      ],
      "metadata": {
        "id": "fRmbru0Nx2Xv"
      }
    },
    {
      "cell_type": "code",
      "source": [
        "reg_count = (reg_activity_df\n",
        "             .filter(reg_activity_df['Transaction Type'].contains(\"Registration\"))\n",
        "             .groupBy('Transaction Year')\n",
        "             .count()\n",
        "             .filter(reg_activity_df['Transaction Year'] != 2023)\n",
        "             .orderBy('Transaction Year'))\n",
        "\n",
        "reg_diff = (reg_count.alias('rc1')\n",
        "            .join(reg_count.alias('rc2'), col('rc1.Transaction Year') == col('rc2.Transaction Year') - 1)\n",
        "            .withColumn('diff', col('rc2.count') - col('rc1.count'))\n",
        "            .select('rc2.Transaction Year', 'diff')\n",
        "            .filter(col('Transaction Year') != 2023)\n",
        "            .orderBy('rc1.Transaction Year'))\n",
        "\n",
        "gs = gridspec.GridSpec(nrows=1, ncols=2, width_ratios=[1,1], wspace=0.3)\n",
        "f = plt.figure(figsize=(18,10))\n",
        "ax1 = f.add_subplot(gs[0])\n",
        "ax2 = f.add_subplot(gs[1])\n",
        "\n",
        "reg_count_pd = reg_count.toPandas()\n",
        "ax1.bar(reg_count_pd['Transaction Year'], reg_count_pd['count'])\n",
        "ax1.set_xlabel('Transaction Year', fontsize = 14)\n",
        "ax1.set_ylabel('Registration Count', fontsize = 14)\n",
        "ax1.set_title('Registration Count by Transaction Year', fontsize = 16)\n",
        "\n",
        "reg_diff_pd = reg_diff.toPandas()\n",
        "ax2.bar(reg_diff_pd['Transaction Year'], reg_diff_pd['diff'])\n",
        "ax2.set_xlabel('Transaction Year', fontsize = 14)\n",
        "ax2.set_ylabel('Change in Registration Count', fontsize = 14)\n",
        "ax2.set_title('Change in Registration Count from Previous Year', fontsize = 16)\n",
        "\n",
        "f.show()"
      ],
      "metadata": {
        "colab": {
          "base_uri": "https://localhost:8080/",
          "height": 627
        },
        "id": "_yI9Szv0x49j",
        "outputId": "11ff3bfd-3b1a-48fa-904e-66ccf6a5d0c7"
      },
      "execution_count": null,
      "outputs": [
        {
          "output_type": "display_data",
          "data": {
            "text/plain": [
              "<Figure size 1296x720 with 2 Axes>"
            ],
            "image/png": "[encoded data removed]"
          },
          "metadata": {
            "needs_background": "light"
          }
        }
      ]
    },
    {
      "cell_type": "markdown",
      "source": [
        "We can confidently conclude that, over time, the amount of electric vehciles registered in Washington has increased. Ignoring 2023, since we only have data for the first two monthes, each year has a larger count than all previous years.\n",
        "\n",
        "Looking at the change in number of registered electric vehicles from year to year, overall there has been an increase in registered electric vehicles each year (which we also saw in the first plot). Additionally, we see a large increase in registered vehicles from 2017 to 2018 compared to prior years, as well as a large increase from 2020 to 2021 and 2021 to 2022 compared to prior years. This supports the conclusion that electric vehicles have been becoming more over time since a greater number of people have registered electric vehicles in more recent years."
      ],
      "metadata": {
        "id": "4Fj7IgJz2StW"
      }
    },
    {
      "cell_type": "markdown",
      "source": [
        "\n",
        "\n",
        "---\n",
        "\n"
      ],
      "metadata": {
        "id": "nmhxLPRABGzb"
      }
    },
    {
      "cell_type": "markdown",
      "source": [
        "## 2. What make of vehicle was the most popular each year? Within each make, was there a stand out model?"
      ],
      "metadata": {
        "id": "0XI3g_WaA7Hc"
      }
    },
    {
      "cell_type": "code",
      "source": [
        "max_count = (reg_activity_df\n",
        "             .filter(reg_activity_df['Transaction Type'].contains(\"Registration\"))\n",
        "             .groupBy('Transaction Year', 'Make')\n",
        "             .count()\n",
        "             .groupBy('Transaction Year')\n",
        "             .agg(F.max('count').alias('max_count')))\n",
        "\n",
        "make_count = (reg_activity_df\n",
        "             .filter(reg_activity_df['Transaction Type'].contains(\"Registration\"))\n",
        "             .groupBy('Transaction Year', 'Make')\n",
        "             .count()\n",
        "             .join(max_count, 'Transaction Year')\n",
        "             .filter('count = max_count')\n",
        "             .orderBy('Transaction Year')\n",
        "             .drop('count'))\n",
        "\n",
        "max_model_count = (reg_activity_df\n",
        "                   .filter(reg_activity_df['Transaction Type'].contains(\"Registration\"))\n",
        "                   .join(make_count, ['Transaction Year', 'Make'])\n",
        "                   .groupBy('Transaction Year', 'Make', 'Model')\n",
        "                   .count()\n",
        "                   .groupBy('Transaction Year')\n",
        "                   .agg(F.max('count').alias('max_model_count')))\n",
        "\n",
        "model_count = (reg_activity_df\n",
        "                   .filter(reg_activity_df['Transaction Type'].contains(\"Registration\"))\n",
        "                   .join(make_count, ['Transaction Year', 'Make'])\n",
        "                   .groupBy('Transaction Year', 'Make', 'Model')\n",
        "                   .count()\n",
        "                   .join(max_model_count, 'Transaction Year')\n",
        "                   .filter('count = max_model_count')\n",
        "                   .orderBy('Transaction Year')\n",
        "                   .drop('count'))\n",
        "\n",
        "combo_count = (make_count\n",
        "               .join(model_count, ['Transaction Year', 'Make'])\n",
        "               .join(reg_count, 'Transaction Year')\n",
        "               .withColumn('make_count/total_count', F.round(col('max_count') / col('count') * 100, 2))\n",
        "               .withColumn('model_count/make_count', F.round(col('max_model_count') / col('max_count') * 100, 2))\n",
        "               .withColumn('model_count/total_count', F.round(col('max_model_count') / col('count') * 100, 2))\n",
        "               .select('Transaction Year', 'Make', 'Model', 'make_count/total_count', 'model_count/make_count', 'model_count/total_count')\n",
        "               .orderBy('Transaction Year'))\n",
        "\n",
        "combo_count.show()"
      ],
      "metadata": {
        "colab": {
          "base_uri": "https://localhost:8080/"
        },
        "id": "cmAqMdCxA-Mw",
        "outputId": "8d7c8329-93ff-4e8b-850d-ded8a0ef841e"
      },
      "execution_count": null,
      "outputs": [
        {
          "output_type": "stream",
          "name": "stdout",
          "text": [
            "+----------------+------+--------+----------------------+----------------------+-----------------------+\n",
            "|Transaction Year|  Make|   Model|make_count/total_count|model_count/make_count|model_count/total_count|\n",
            "+----------------+------+--------+----------------------+----------------------+-----------------------+\n",
            "|            2010| TESLA|Roadster|                  70.0|                 100.0|                   70.0|\n",
            "|            2011|NISSAN|    Leaf|                 81.48|                 100.0|                  81.48|\n",
            "|            2012|NISSAN|    Leaf|                 56.24|                 100.0|                  56.24|\n",
            "|            2013|NISSAN|    Leaf|                 51.14|                 100.0|                  51.14|\n",
            "|            2014|NISSAN|    Leaf|                 50.75|                 100.0|                  50.75|\n",
            "|            2015|NISSAN|    Leaf|                 46.16|                 100.0|                  46.16|\n",
            "|            2016|NISSAN|    Leaf|                 39.99|                 100.0|                  39.99|\n",
            "|            2017|NISSAN|    Leaf|                 35.13|                 100.0|                  35.13|\n",
            "|            2018| TESLA| Model S|                 28.23|                 42.32|                  11.95|\n",
            "|            2019| TESLA| Model 3|                 35.91|                 56.88|                  20.43|\n",
            "|            2020| TESLA| Model 3|                 41.34|                 54.18|                   22.4|\n",
            "|            2021| TESLA| Model 3|                 44.23|                 47.74|                  21.12|\n",
            "|            2022| TESLA| Model 3|                 46.36|                 43.92|                  20.36|\n",
            "+----------------+------+--------+----------------------+----------------------+-----------------------+\n",
            "\n"
          ]
        }
      ]
    },
    {
      "cell_type": "markdown",
      "source": [
        "Summarized in the table above, Nissan was the most popular make of electric vehicle prior to 2018, where Tesla took the lead and has continued to hold it. Compared to Nissan, whos majority percentage decreased each year, Teslas majority percentage has only increased each year (setting aside 2023). A result I find suprising is 2018's majority make percentage. Only 28% of electric vehicles in Washington were made by Tesla, yet this was the majority that year. Compared to other years, this is relatively small since at least 35%, but usually over 40%, was the majority.\n",
        "\n",
        "The majority model percentage by make tells a boring story. While Nissan was the majority model, the Nissan Leaf was the most popular (and only model of Nissan) registered electric vehicle in Washington. When Tesla took over the reigns the Tesla Model 3 was at the top. However, so far this year the Telsa Model Y is the most popular.\n",
        "\n",
        "On the other hand, the majority model percentage by all electric vehicles in Washington look more interesting. As expected, while Nissan is the majority this percentage is equivalent to the majority make percentage. In other words, the percentage is large. But, while Tesla is the majority, the majority model percentage by all electric vehicles is much lower. This leaves us with three options: there is more competition in the electric vehicle market post 2017, the new majority make, Tesla, had a large number of different models making the majority model percentage for all electric vehicles appear small, or a combination of both."
      ],
      "metadata": {
        "id": "IdR-uiHyb0nN"
      }
    },
    {
      "cell_type": "markdown",
      "source": [
        "\n",
        "\n",
        "---\n",
        "\n"
      ],
      "metadata": {
        "id": "peL2gV2NtNXd"
      }
    },
    {
      "cell_type": "markdown",
      "source": [
        "## 3. Are there more Full Electric or Hybrid vehicles currently registered? Do different cities favor one type over the other? Do counties? Do Postal Codes?"
      ],
      "metadata": {
        "id": "VqLLigXjtLcn"
      }
    },
    {
      "cell_type": "code",
      "source": [
        "cur_reg = (reg_df\n",
        "           .join(reg_activity_df, 'DOL Vehicle ID')\n",
        "           .orderBy('Transaction Year', ascending = False)\n",
        "           .dropDuplicates(['DOL Vehicle ID'])\n",
        "           .select('DOL Vehicle ID', 'Transaction Year', 'Clean Alternative Fuel Vehicle Type', reg_df['City'], reg_df['County'], reg_df['Postal Code']))\n",
        "\n",
        "type_count = (cur_reg\n",
        "              .groupBy('Clean Alternative Fuel Vehicle Type')\n",
        "              .count()\n",
        "              .orderBy('count', ascending = False))\n",
        "\n",
        "\n",
        "def get_pct(x):\n",
        "  type_count = (cur_reg\n",
        "                .groupBy(x, 'Clean Alternative Fuel Vehicle Type')\n",
        "                .count()\n",
        "                .orderBy(x))\n",
        "\n",
        "  all_x = (cur_reg\n",
        "                .select(x)\n",
        "                .distinct())\n",
        "\n",
        "  all_type = (cur_reg\n",
        "              .select('Clean Alternative Fuel Vehicle Type')\n",
        "              .distinct())\n",
        "\n",
        "  all_x_type = all_x.crossJoin(all_type)\n",
        "\n",
        "  type_count = (all_x_type\n",
        "                .join(type_count, [x, 'Clean Alternative Fuel Vehicle Type'], 'left')\n",
        "                .filter(all_x_type[x] != 'null')\n",
        "                .fillna(0, subset=['count'])\n",
        "                .orderBy(x))\n",
        "\n",
        "  type_pct = (type_count.alias('ctc1')\n",
        "               .join( type_count.alias('ctc2'), x)\n",
        "               .filter(col('ctc1.Clean Alternative Fuel Vehicle Type') != col('ctc2.Clean Alternative Fuel Vehicle Type'))\n",
        "               .orderBy('ctc1.Clean Alternative Fuel Vehicle Type')\n",
        "               .dropDuplicates([x])\n",
        "               .withColumn('full_electric_count / total_count', F.round((col('ctc1.count') / (col('ctc1.count') + col('ctc2.count'))) * 100, 2))\n",
        "               .select(x, 'full_electric_count / total_count')\n",
        "               .orderBy(x))\n",
        "\n",
        "  majority_full_count_x = (type_pct\n",
        "                           .filter( type_pct['full_electric_count / total_count'] > 50)\n",
        "                           .count())\n",
        "\n",
        "  print(f'Percent of Majority Full Electric Vehicle ({x}): {round(majority_full_count_x / all_x.count() * 100, 2)}%')\n",
        "\n",
        "type_count.show(truncate = False)\n",
        "for loc in ['City', 'County', 'Postal Code']:\n",
        "  get_pct(loc)"
      ],
      "metadata": {
        "colab": {
          "base_uri": "https://localhost:8080/"
        },
        "id": "1EmqwLgEzkT2",
        "outputId": "52c562b2-88ae-49a6-d481-94adb6bef45f"
      },
      "execution_count": null,
      "outputs": [
        {
          "output_type": "stream",
          "name": "stdout",
          "text": [
            "+--------------------------------------+-----+\n",
            "|Clean Alternative Fuel Vehicle Type   |count|\n",
            "+--------------------------------------+-----+\n",
            "|Battery Electric Vehicle (BEV)        |91254|\n",
            "|Plug-in Hybrid Electric Vehicle (PHEV)|27361|\n",
            "+--------------------------------------+-----+\n",
            "\n",
            "Percent of Majority Full Electric Vehicle (City): 74.45%\n",
            "Percent of Majority Full Electric Vehicle (County): 68.67%\n",
            "Percent of Majority Full Electric Vehicle (Postal Code): 77.08%\n"
          ]
        }
      ]
    },
    {
      "cell_type": "markdown",
      "source": [
        "Looking at the table above, there is a large difference of 63,893 more registered full electric vehicles than hybrid electric vehicles. Possible conclusions are that people who use electric vehicles prefer full electric, the performance to cost benefit of a full electric vehicle outweights that of a hybrid, or possibly full electric vehicles are more available than hybrid. Without further research we cannot be sure why there exists a difference.\n",
        "\n",
        "A majority of cities, counties, and postal code areas have a majority of full electric vehicles. In other words, there is not one concentrated location which prefers full electric vehicles skewing the previous results. We can say that a people prefer full electric to hybrid, regardless of location in Washington."
      ],
      "metadata": {
        "id": "Kqy85NslrbuO"
      }
    },
    {
      "cell_type": "markdown",
      "source": [
        "\n",
        "\n",
        "---\n",
        "\n"
      ],
      "metadata": {
        "id": "em6Dr-yjtu-z"
      }
    },
    {
      "cell_type": "markdown",
      "source": [
        "# Conclusion"
      ],
      "metadata": {
        "id": "Pw57kdn51psd"
      }
    },
    {
      "cell_type": "markdown",
      "source": [
        "We can conclude that, over time, there has been an increase in ownership of electric vehicles in Washington; with larger increases in the past two years. From 2011 to 2017, the Nissan Leaf was the most popular vehicle, and from 2018 to present day Tesla has held the reigns. Currently full electric vehicles are the most popular compared against hybrid vehicles, regardless of location. This follows what we saw from question 2 since Tesla, a full electric vehicle manufacturer, has been the dominate make for the past few years.\n",
        "\n",
        "Using dataframes with Pyspark was a effective tool against my questions. I not only felt the most comfortable using it, since I have experience with Pandas dataframes, but it allowed me to output my results as I coded in a clean format which helped solve issues I ran into.\n",
        "\n",
        "A limitation due to my datasets is only being able to generalize my results to and discuss Washington. I would like to perfrom similar analysis on and including other states or even countries. This would increase the scope and reliability of the results, and may even change them as well. I would also want to look at data on different electric vehicles in an attempt to figure out why some are more popular than others. With additional information on specific vehicles and locations, results from these questions could help companies know where they should advertise, where to set up charging stations, and help legislatures make more informed policy descisions on electric vehicles."
      ],
      "metadata": {
        "id": "CN4G-vvOtuVq"
      }
    },
    {
      "cell_type": "markdown",
      "source": [
        "# Cleanup"
      ],
      "metadata": {
        "id": "1VxDcAsYTFWy"
      }
    },
    {
      "cell_type": "code",
      "source": [
        "sc.stop()"
      ],
      "metadata": {
        "id": "to3Cq4H4TG3Z"
      },
      "execution_count": null,
      "outputs": []
    }
  ]
}